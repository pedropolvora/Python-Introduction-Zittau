{
 "metadata": {
  "name": ""
 },
 "nbformat": 3,
 "nbformat_minor": 0,
 "worksheets": [
  {
   "cells": [
    {
     "cell_type": "markdown",
     "metadata": {},
     "source": [
      "*The first benchmark in this notebook first appeared as a*\n",
      "[*post*](http://jakevdp.github.io/blog/2012/08/24/numba-vs-cython/)\n",
      "*by Jake Vanderplas on the blog*\n",
      "[*Pythonic Perambulations*](http://jakevdp.github.io)"
     ]
    },
    {
     "cell_type": "code",
     "collapsed": false,
     "input": [
      "import numpy as np\n",
      "X = np.random.random((1000, 3))"
     ],
     "language": "python",
     "metadata": {},
     "outputs": [],
     "prompt_number": 1
    },
    {
     "cell_type": "code",
     "collapsed": false,
     "input": [
      "def parse_cap(s):\n",
      "    return cap.stdout.split(' ')[-4:-2]\n",
      "Benchs = ['python\\nloop', 'numpy\\nbroadc.', 'sklearn', 'fortran/\\nf2py', 'scipy', 'cython', 'numba','parakeet']\n",
      "Benchmarks = dict((bench,0) for bench in Benchs)"
     ],
     "language": "python",
     "metadata": {},
     "outputs": [],
     "prompt_number": 2
    },
    {
     "cell_type": "markdown",
     "metadata": {},
     "source": [
      "We'll start by defining the array which we'll use for the benchmarks: one thousand points in\n",
      "three dimensions."
     ]
    },
    {
     "cell_type": "code",
     "collapsed": false,
     "input": [
      "np.show_config()"
     ],
     "language": "python",
     "metadata": {},
     "outputs": [
      {
       "output_type": "stream",
       "stream": "stdout",
       "text": [
        "blas_info:\n",
        "  NOT AVAILABLE\n",
        "lapack_info:\n",
        "  NOT AVAILABLE\n",
        "atlas_threads_info:\n",
        "  NOT AVAILABLE\n",
        "blas_src_info:\n",
        "  NOT AVAILABLE\n",
        "lapack_src_info:\n",
        "  NOT AVAILABLE\n",
        "atlas_blas_threads_info:\n",
        "  NOT AVAILABLE\n",
        "lapack_opt_info:\n",
        "  NOT AVAILABLE\n",
        "blas_opt_info:\n",
        "  NOT AVAILABLE\n",
        "atlas_info:\n",
        "  NOT AVAILABLE\n",
        "lapack_mkl_info:\n",
        "  NOT AVAILABLE\n",
        "blas_mkl_info:\n",
        "  NOT AVAILABLE\n",
        "atlas_blas_info:\n",
        "  NOT AVAILABLE\n",
        "mkl_info:\n",
        "  NOT AVAILABLE\n"
       ]
      }
     ],
     "prompt_number": 3
    },
    {
     "cell_type": "heading",
     "level": 2,
     "metadata": {},
     "source": [
      "Numpy Function With Broadcasting"
     ]
    },
    {
     "cell_type": "markdown",
     "metadata": {},
     "source": [
      "We'll start with a typical numpy broadcasting approach to this problem.  Numpy\n",
      "broadcasting is an abstraction that allows loops over array indices to be\n",
      "executed in compiled C.  For many applications, this is extremely fast and efficient.\n",
      "Unfortunately, there is a problem with broadcasting approaches that comes up here:\n",
      "it ends up allocating hidden temporary arrays which can eat up memory and cause\n",
      "computational overhead.  Nevertheless, it's a good comparison to have.  The function\n",
      "looks like this:"
     ]
    },
    {
     "cell_type": "code",
     "collapsed": false,
     "input": [
      "%%capture cap\n",
      "\n",
      "def pairwise_numpy(X):\n",
      "    return np.sqrt(((X[:, None, :] - X) ** 2).sum(-1))\n",
      "%timeit pairwise_numpy(X)"
     ],
     "language": "python",
     "metadata": {},
     "outputs": [],
     "prompt_number": 4
    },
    {
     "cell_type": "code",
     "collapsed": false,
     "input": [
      "Benchmarks['numpy\\nbroadc.'] = parse_cap(cap)\n",
      "print cap.stdout"
     ],
     "language": "python",
     "metadata": {},
     "outputs": [
      {
       "output_type": "stream",
       "stream": "stdout",
       "text": [
        "10 loops, best of 3: 126 ms per loop\n",
        "\n"
       ]
      }
     ],
     "prompt_number": 5
    },
    {
     "cell_type": "heading",
     "level": 2,
     "metadata": {},
     "source": [
      "Pure Python Function"
     ]
    },
    {
     "cell_type": "markdown",
     "metadata": {},
     "source": [
      "A loop-based solution avoids the overhead associated with temporary arrays,\n",
      "and can be written like this:"
     ]
    },
    {
     "cell_type": "code",
     "collapsed": false,
     "input": [
      "def pairwise_python(X):\n",
      "    M = X.shape[0]\n",
      "    N = X.shape[1]\n",
      "    D = np.empty((M, M), dtype=np.float)\n",
      "    for i in range(M):\n",
      "        for j in range(M):\n",
      "            d = 0.0\n",
      "            for k in range(N):\n",
      "                tmp = X[i, k] - X[j, k]\n",
      "                d += tmp * tmp\n",
      "            D[i, j] = np.sqrt(d)\n",
      "    return D"
     ],
     "language": "python",
     "metadata": {},
     "outputs": [],
     "prompt_number": 6
    },
    {
     "cell_type": "code",
     "collapsed": false,
     "input": [
      "%%capture cap\n",
      "%timeit pairwise_python(X)"
     ],
     "language": "python",
     "metadata": {},
     "outputs": [],
     "prompt_number": 7
    },
    {
     "cell_type": "code",
     "collapsed": false,
     "input": [
      "Benchmarks['python\\nloop'] = parse_cap(cap)\n",
      "print cap.stdout"
     ],
     "language": "python",
     "metadata": {},
     "outputs": [
      {
       "output_type": "stream",
       "stream": "stdout",
       "text": [
        "1 loops, best of 3: 10.7 s per loop\n",
        "\n"
       ]
      }
     ],
     "prompt_number": 8
    },
    {
     "cell_type": "markdown",
     "metadata": {},
     "source": [
      "As we see, it is over 100 times slower than the numpy broadcasting approach!\n",
      "This is due to Python's dynamic type checking, which can drastically slow down\n",
      "nested loops.  With these two solutions, we're left with a tradeoff between\n",
      "efficiency of computation and efficiency of memory usage.  This is where tools\n",
      "like Numba and Cython become vital"
     ]
    },
    {
     "cell_type": "heading",
     "level": 2,
     "metadata": {},
     "source": [
      "Numba Wrapper"
     ]
    },
    {
     "cell_type": "markdown",
     "metadata": {},
     "source": [
      "[Numba](http://numba.pydata.org/) is an LLVM compiler for python code, which\n",
      "allows code written in Python to be converted to highly efficient compiled code\n",
      "in real-time.  \n",
      "Numba is extremely simple to use.  We just wrap our python function with ``autojit`` (JIT stands\n",
      "for \"just in time\" compilation) to automatically create an efficient, compiled version of the function:"
     ]
    },
    {
     "cell_type": "markdown",
     "metadata": {},
     "source": [
      "**Note** Somehow, importing pylab breaks numba"
     ]
    },
    {
     "cell_type": "code",
     "collapsed": false,
     "input": [
      "%%capture cap\n",
      "\n",
      "from numba import double\n",
      "from numba.decorators import jit, autojit\n",
      "\n",
      "pairwise_numba = autojit(pairwise_python)\n",
      "\n",
      "%timeit pairwise_numba(X)"
     ],
     "language": "python",
     "metadata": {},
     "outputs": [],
     "prompt_number": 11
    },
    {
     "cell_type": "code",
     "collapsed": false,
     "input": [
      "Benchmarks['numba'] = parse_cap(cap)\n",
      "print cap.stdout"
     ],
     "language": "python",
     "metadata": {},
     "outputs": [
      {
       "output_type": "stream",
       "stream": "stdout",
       "text": [
        "100 loops, best of 3: 18.6 ms per loop\n",
        "\n"
       ]
      }
     ],
     "prompt_number": 12
    },
    {
     "cell_type": "heading",
     "level": 2,
     "metadata": {},
     "source": [
      "Optimized Cython Function"
     ]
    },
    {
     "cell_type": "markdown",
     "metadata": {},
     "source": [
      "[Cython](http://cython.org) is another package which is built to convert Python-like statemets\n",
      "into compiled code. The language is actually a superset of Python which acts as a sort of\n",
      "hybrid between Python and C.  By adding type annotations to Python code and running\n",
      "it through the Cython interpreter, we obtain fast compiled code.  Here is a\n",
      "highly-optimized Cython version of the pairwise distance function, which we compile\n",
      "using IPython's Cython magic:"
     ]
    },
    {
     "cell_type": "code",
     "collapsed": false,
     "input": [
      "%load_ext cythonmagic"
     ],
     "language": "python",
     "metadata": {},
     "outputs": [],
     "prompt_number": 13
    },
    {
     "cell_type": "code",
     "collapsed": false,
     "input": [
      "%%cython\n",
      "\n",
      "import numpy as np\n",
      "cimport cython\n",
      "from libc.math cimport sqrt\n",
      "\n",
      "@cython.boundscheck(False)\n",
      "@cython.wraparound(False)\n",
      "def pairwise_cython(double[:, ::1] X):\n",
      "    cdef int M = X.shape[0]\n",
      "    cdef int N = X.shape[1]\n",
      "    cdef double tmp, d\n",
      "    cdef double[:, ::1] D = np.empty((M, M), dtype=np.float64)\n",
      "    for i in range(M):\n",
      "        for j in range(M):\n",
      "            d = 0.0\n",
      "            for k in range(N):\n",
      "                tmp = X[i, k] - X[j, k]\n",
      "                d += tmp * tmp\n",
      "            D[i, j] = sqrt(d)\n",
      "    return np.asarray(D)"
     ],
     "language": "python",
     "metadata": {},
     "outputs": [],
     "prompt_number": 14
    },
    {
     "cell_type": "code",
     "collapsed": false,
     "input": [
      "%%capture cap\n",
      "%timeit pairwise_cython(X)"
     ],
     "language": "python",
     "metadata": {},
     "outputs": [],
     "prompt_number": 15
    },
    {
     "cell_type": "code",
     "collapsed": false,
     "input": [
      "Benchmarks['cython'] = parse_cap(cap)\n",
      "print cap.stdout"
     ],
     "language": "python",
     "metadata": {},
     "outputs": [
      {
       "output_type": "stream",
       "stream": "stdout",
       "text": [
        "100 loops, best of 3: 14.6 ms per loop\n",
        "\n"
       ]
      }
     ],
     "prompt_number": 16
    },
    {
     "cell_type": "markdown",
     "metadata": {},
     "source": [
      "The Cython version, despite all the optimization, is more or less the same as\n",
      "the result of the simple Numba decorator!  \n",
      "By comparison, the Numba version is a simple, unadorned wrapper around plainly-written Python code."
     ]
    },
    {
     "cell_type": "heading",
     "level": 1,
     "metadata": {},
     "source": [
      "Parakeet"
     ]
    },
    {
     "cell_type": "markdown",
     "metadata": {},
     "source": [
      "**[Parakeet](http://www.parakeetpython.com/)** is a runtime accelerator for an array-oriented subset of Python. If you're doing a lot of number crunching in Python, Parakeet may be able to significantly speed up your code.\n",
      "\n",
      "To accelerate a function, wrap it with Parakeet's @jit decorator:"
     ]
    },
    {
     "cell_type": "code",
     "collapsed": false,
     "input": [
      "%%capture cap\n",
      "\n",
      "from parakeet import jit\n",
      "\n",
      "pairwise_parakeet = jit(pairwise_python)\n",
      "\n",
      "%timeit pairwise_parakeet(X)"
     ],
     "language": "python",
     "metadata": {},
     "outputs": [],
     "prompt_number": 17
    },
    {
     "cell_type": "code",
     "collapsed": false,
     "input": [
      "Benchmarks['parakeet'] = parse_cap(cap)\n",
      "print cap.stdout"
     ],
     "language": "python",
     "metadata": {},
     "outputs": [
      {
       "output_type": "stream",
       "stream": "stdout",
       "text": [
        "1 loops, best of 3: 20.9 ms per loop\n",
        "\n"
       ]
      }
     ],
     "prompt_number": 18
    },
    {
     "cell_type": "heading",
     "level": 2,
     "metadata": {},
     "source": [
      "Fortran/F2Py"
     ]
    },
    {
     "cell_type": "markdown",
     "metadata": {},
     "source": [
      "Another option for fast computation is to write a Fortran function directly, and use\n",
      "the ``f2py`` package to interface with the function.  We can write the function\n",
      "as follows:"
     ]
    },
    {
     "cell_type": "code",
     "collapsed": false,
     "input": [
      "%%file pairwise_fort.f\n",
      "\n",
      "      subroutine pairwise_fort(X,D,m,n)\n",
      "          integer :: n,m\n",
      "          double precision, intent(in) :: X(m,n)\n",
      "          double precision, intent(out) :: D(m,m) \n",
      "          integer :: i,j,k\n",
      "          double precision :: r \n",
      "          do i = 1,m \n",
      "              do j = 1,m \n",
      "                  r = 0\n",
      "                  do k = 1,n \n",
      "                      r = r + (X(i,k) - X(j,k)) * (X(i,k) - X(j,k)) \n",
      "                  end do \n",
      "                  D(i,j) = sqrt(r) \n",
      "              end do \n",
      "          end do \n",
      "      end subroutine pairwise_fort"
     ],
     "language": "python",
     "metadata": {},
     "outputs": [
      {
       "output_type": "stream",
       "stream": "stdout",
       "text": [
        "Overwriting pairwise_fort.f\n"
       ]
      }
     ],
     "prompt_number": 19
    },
    {
     "cell_type": "markdown",
     "metadata": {},
     "source": [
      "We can then use the shell interface to compile the Fortran function.  In order\n",
      "to hide the output of this operation, we direct it into ``/dev/null`` (note: I\n",
      "tested this on Linux, and it may have to be modified for Mac or Windows)."
     ]
    },
    {
     "cell_type": "code",
     "collapsed": false,
     "input": [
      "# Compile the Fortran with f2py.\n",
      "# We'll direct the output into /dev/null so it doesn't fill the screen\n",
      "#!f2py -c --compiler=intel pairwise_fort.f -m pairwise_fort > /dev/null\n",
      "!f2py -c --compiler=intel --fcompiler=intel pairwise_fort.f -m pairwise_fort > /dev/null"
     ],
     "language": "python",
     "metadata": {},
     "outputs": [],
     "prompt_number": 20
    },
    {
     "cell_type": "markdown",
     "metadata": {},
     "source": [
      "We can import the resulting code into Python to time the execution\n",
      "of the function.  To make sure we're being fair, we'll first convert\n",
      "the test array to Fortran-ordering so that no conversion needs to\n",
      "happen in the background:"
     ]
    },
    {
     "cell_type": "code",
     "collapsed": false,
     "input": [
      "%%capture cap\n",
      "\n",
      "from pairwise_fort import pairwise_fort\n",
      "XF = np.asarray(X, order='F')\n",
      "%timeit pairwise_fort(XF)"
     ],
     "language": "python",
     "metadata": {},
     "outputs": [],
     "prompt_number": 21
    },
    {
     "cell_type": "code",
     "collapsed": false,
     "input": [
      "Benchmarks['fortran/\\nf2py'] = parse_cap(cap)\n",
      "print cap.stdout"
     ],
     "language": "python",
     "metadata": {},
     "outputs": [
      {
       "output_type": "stream",
       "stream": "stdout",
       "text": [
        "10 loops, best of 3: 22.5 ms per loop\n",
        "\n"
       ]
      }
     ],
     "prompt_number": 22
    },
    {
     "cell_type": "markdown",
     "metadata": {},
     "source": [
      "The result is nearly a factor of two slower than the Cython and Numba versions."
     ]
    },
    {
     "cell_type": "heading",
     "level": 2,
     "metadata": {},
     "source": [
      "Scipy Pairwise Distances"
     ]
    },
    {
     "cell_type": "code",
     "collapsed": false,
     "input": [
      "%%capture cap\n",
      "\n",
      "from scipy.spatial.distance import cdist\n",
      "%timeit cdist(X, X)"
     ],
     "language": "python",
     "metadata": {},
     "outputs": [],
     "prompt_number": 23
    },
    {
     "cell_type": "code",
     "collapsed": false,
     "input": [
      "Benchmarks['scipy'] = parse_cap(cap)\n",
      "print cap.stdout"
     ],
     "language": "python",
     "metadata": {},
     "outputs": [
      {
       "output_type": "stream",
       "stream": "stdout",
       "text": [
        "100 loops, best of 3: 17.2 ms per loop\n",
        "\n"
       ]
      }
     ],
     "prompt_number": 24
    },
    {
     "cell_type": "heading",
     "level": 2,
     "metadata": {},
     "source": [
      "Scikit-learn Pairwise Distances"
     ]
    },
    {
     "cell_type": "markdown",
     "metadata": {},
     "source": [
      "Scikit-learn contains the ``euclidean_distances`` function, works on sparse\n",
      "matrices as well as numpy arrays, and is implemented in Cython:"
     ]
    },
    {
     "cell_type": "code",
     "collapsed": false,
     "input": [
      "%%capture cap\n",
      "\n",
      "from sklearn.metrics import euclidean_distances\n",
      "%timeit euclidean_distances(X, X)"
     ],
     "language": "python",
     "metadata": {},
     "outputs": [],
     "prompt_number": 25
    },
    {
     "cell_type": "code",
     "collapsed": false,
     "input": [
      "Benchmarks['sklearn'] = parse_cap(cap)\n",
      "print cap.stdout"
     ],
     "language": "python",
     "metadata": {},
     "outputs": [
      {
       "output_type": "stream",
       "stream": "stdout",
       "text": [
        "10 loops, best of 3: 53.6 ms per loop\n",
        "\n"
       ]
      }
     ],
     "prompt_number": 26
    },
    {
     "cell_type": "markdown",
     "metadata": {},
     "source": [
      "``euclidean_distances`` is several times slower than the Numba pairwise function\n",
      "on dense arrays."
     ]
    },
    {
     "cell_type": "heading",
     "level": 2,
     "metadata": {},
     "source": [
      "Comparing the Results"
     ]
    },
    {
     "cell_type": "markdown",
     "metadata": {},
     "source": [
      "\n",
      "As a summary of the results, we'll create a bar-chart to visualize the timings:\n"
     ]
    },
    {
     "cell_type": "code",
     "collapsed": false,
     "input": [
      "%matplotlib inline"
     ],
     "language": "python",
     "metadata": {},
     "outputs": [],
     "prompt_number": 27
    },
    {
     "cell_type": "code",
     "collapsed": false,
     "input": [
      "labels = Benchmarks.keys()\n",
      "timings = [np.timedelta64(int(float(value[0])),str(value[1]))/np.timedelta64(1, 's') for value in Benchmarks.values()]\n",
      "x = np.arange(len(labels))\n",
      "ax = plt.axes(xticks=x, yscale='log')\n",
      "ax.bar(x - 0.3, timings, width=0.6, alpha=0.4, bottom=1E-6)\n",
      "ax.grid()\n",
      "ax.set_xlim(-0.5, len(labels) - 0.5)\n",
      "ax.set_ylim(1E-2, 1.1*max(timings))\n",
      "ax.xaxis.set_major_formatter(plt.FuncFormatter(lambda i, loc: labels[int(i)]))\n",
      "ax.set_ylabel('time (s)')\n",
      "ax.set_title(\"Pairwise Distance Timings\")"
     ],
     "language": "python",
     "metadata": {},
     "outputs": [
      {
       "metadata": {},
       "output_type": "pyout",
       "prompt_number": 29,
       "text": [
        "<matplotlib.text.Text at 0xba8666c>"
       ]
      },
      {
       "metadata": {},
       "output_type": "display_data",
       "png": "[encoded data removed]",
       "text": [
        "<matplotlib.figure.Figure at 0xb877b0c>"
       ]
      }
     ],
     "prompt_number": 29
    },
    {
     "cell_type": "markdown",
     "metadata": {},
     "source": [
      "Note that this is log-scaled, so the vertical space between two\n",
      "grid lines indicates a factor of 10 difference in computation time. As Pure Python takes more time by two orders of magnitude we'll now remove it from the benchmarks for a better comparison."
     ]
    },
    {
     "cell_type": "code",
     "collapsed": false,
     "input": [
      "labels = [val for val in Benchmarks.iterkeys() if val != 'python\\nloop']\n",
      "timings = [np.timedelta64(int(float(value[0])),str(value[1]))/np.timedelta64(1, 's')\\\n",
      "           for k, value in Benchmarks.items() if k != 'python\\nloop']\n",
      "x = np.arange(len(labels))\n",
      "ax = plt.axes(xticks=x, yscale='log')\n",
      "ax.bar(x - 0.3, timings, width=0.6, alpha=0.4, bottom=1E-6)\n",
      "ax.grid()\n",
      "ax.set_xlim(-0.5, len(labels) - 0.5)\n",
      "ax.set_ylim(1E-2, 1.1*max(timings))\n",
      "ax.xaxis.set_major_formatter(plt.FuncFormatter(lambda i, loc: labels[int(i)]))\n",
      "ax.set_ylabel('time (s)')\n",
      "ax.set_title(\"Pairwise Distance Timings\")"
     ],
     "language": "python",
     "metadata": {},
     "outputs": [
      {
       "metadata": {},
       "output_type": "pyout",
       "prompt_number": 30,
       "text": [
        "<matplotlib.text.Text at 0xbba422c>"
       ]
      },
      {
       "metadata": {},
       "output_type": "display_data",
       "png": "[encoded data removed]",
       "text": [
        "<matplotlib.figure.Figure at 0xbb85ecc>"
       ]
      }
     ],
     "prompt_number": 30
    },
    {
     "cell_type": "heading",
     "level": 2,
     "metadata": {},
     "source": [
      "**1D European Option using Black-Scholes Formula**"
     ]
    },
    {
     "cell_type": "code",
     "collapsed": false,
     "input": [
      "#Restart notebook!"
     ],
     "language": "python",
     "metadata": {},
     "outputs": [],
     "prompt_number": 3
    },
    {
     "cell_type": "markdown",
     "metadata": {},
     "source": [
      "\n",
      "We'll now benchmark a simple function which returns the price of a 1D European Option using the closed form solution with the following parameters:\n",
      "\n",
      "$S_0$ = 100\n",
      "\n",
      "$K$ = 100\n",
      "\n",
      "$T$ = 1 (years)\n",
      "\n",
      "$\\sigma$ = 0.3 \n",
      "\n",
      "$r$ = 0.03\n",
      "\n",
      "dividend = 0\n",
      "\n",
      "option type = -1 (+1 for call, -1 for put)"
     ]
    },
    {
     "cell_type": "code",
     "collapsed": false,
     "input": [
      "S0 = 100\n",
      "K = 100\n",
      "T = 1\n",
      "vol = 0.3\n",
      "r = 0.03\n",
      "q = 0\n",
      "optype = -1"
     ],
     "language": "python",
     "metadata": {},
     "outputs": [],
     "prompt_number": 4
    },
    {
     "cell_type": "code",
     "collapsed": false,
     "input": [
      "from numpy import log, sqrt, zeros, exp, arange\n",
      "from scipy.special import erf\n",
      "\n",
      "def parse_cap(s):\n",
      "    return cap.stdout.split(' ')[-4:-2]\n",
      "\n",
      "benchs = ['python','numba','cython','matlab']\n",
      "BS_bench = dict(zip(benchs,zeros(4)))"
     ],
     "language": "python",
     "metadata": {},
     "outputs": [],
     "prompt_number": 10
    },
    {
     "cell_type": "heading",
     "level": 1,
     "metadata": {},
     "source": [
      "Pure Python"
     ]
    },
    {
     "cell_type": "code",
     "collapsed": false,
     "input": [
      "def std_norm_cdf(x):\n",
      "    return 0.5*(1+erf(x/sqrt(2.0)))\n",
      "\n",
      "def black_scholes(s, k, t, v, rf, div, cp):\n",
      "    \"\"\"Price an option using the Black-Scholes model.\n",
      "    \n",
      "    s : initial stock price\n",
      "    k : strike price\n",
      "    t : expiration time\n",
      "    v : volatility\n",
      "    rf : risk-free rate\n",
      "    div : dividend\n",
      "    cp : +1/-1 for call/put\n",
      "    \"\"\"\n",
      "    d1 = (log(s/k)+(rf-div+0.5*pow(v,2))*t)/(v*sqrt(t))\n",
      "    d2 = d1 - v*sqrt(t)\n",
      "    optprice = cp*s*exp(-div*t)*std_norm_cdf(cp*d1) - \\\n",
      "            cp*k*exp(-rf*t)*std_norm_cdf(cp*d2)\n",
      "    return optprice"
     ],
     "language": "python",
     "metadata": {},
     "outputs": [],
     "prompt_number": 11
    },
    {
     "cell_type": "code",
     "collapsed": false,
     "input": [
      "%%capture cap\n",
      "%timeit black_scholes(S0, K, T, vol, r, q, optype)"
     ],
     "language": "python",
     "metadata": {},
     "outputs": [],
     "prompt_number": 12
    },
    {
     "cell_type": "code",
     "collapsed": false,
     "input": [
      "BS_bench['python'] = parse_cap(cap)\n",
      "print cap.stdout"
     ],
     "language": "python",
     "metadata": {},
     "outputs": [
      {
       "output_type": "stream",
       "stream": "stdout",
       "text": [
        "10000 loops, best of 3: 48.3 us per loop\n",
        "\n"
       ]
      }
     ],
     "prompt_number": 13
    },
    {
     "cell_type": "heading",
     "level": 1,
     "metadata": {},
     "source": [
      "Numba"
     ]
    },
    {
     "cell_type": "code",
     "collapsed": false,
     "input": [
      "from numba import double\n",
      "from numba.decorators import jit, autojit\n",
      "import math\n",
      "\n",
      "@autojit\n",
      "def std_norm_cdf_numba(x):\n",
      "    return 0.5*(1+math.erf(x/math.sqrt(2.0)))\n",
      "\n",
      "@autojit\n",
      "def black_scholes_numba(s, k, t, v, rf, div, cp):\n",
      "    \"\"\"Price an option using the Black-Scholes model.\n",
      "    \n",
      "    s : initial stock price\n",
      "    k : strike price\n",
      "    t : expiration time\n",
      "    v : volatility\n",
      "    rf : risk-free rate\n",
      "    div : dividend\n",
      "    cp : +1/-1 for call/put\n",
      "    \"\"\"\n",
      "    d1 = (math.log(s/k)+(rf-div+0.5*v*v)*t)/(v*math.sqrt(t))\n",
      "    d2 = d1 - v*math.sqrt(t)\n",
      "    optprice = cp*s*math.exp(-div*t)*std_norm_cdf_numba(cp*d1) - \\\n",
      "            cp*k*math.exp(-rf*t)*std_norm_cdf_numba(cp*d2)\n",
      "    return optprice"
     ],
     "language": "python",
     "metadata": {},
     "outputs": [],
     "prompt_number": 14
    },
    {
     "cell_type": "code",
     "collapsed": false,
     "input": [
      "%%capture cap\n",
      "%timeit black_scholes_numba(S0, K, T, vol, r, q, optype)"
     ],
     "language": "python",
     "metadata": {},
     "outputs": [],
     "prompt_number": 16
    },
    {
     "cell_type": "code",
     "collapsed": false,
     "input": [
      "BS_bench['numba'] = parse_cap(cap)\n",
      "print cap.stdout"
     ],
     "language": "python",
     "metadata": {},
     "outputs": [
      {
       "output_type": "stream",
       "stream": "stdout",
       "text": [
        "100000 loops, best of 3: 11.6 us per loop\n",
        "\n"
       ]
      }
     ],
     "prompt_number": 17
    },
    {
     "cell_type": "heading",
     "level": 1,
     "metadata": {},
     "source": [
      "Cython"
     ]
    },
    {
     "cell_type": "code",
     "collapsed": false,
     "input": [
      "%load_ext cythonmagic"
     ],
     "language": "python",
     "metadata": {},
     "outputs": [],
     "prompt_number": 18
    },
    {
     "cell_type": "code",
     "collapsed": false,
     "input": [
      "%%cython\n",
      "cimport cython\n",
      "from libc.math cimport exp, sqrt, pow, log, erf\n",
      "\n",
      "@cython.cdivision(True)\n",
      "cdef double std_norm_cdf(double x) nogil:\n",
      "    return 0.5*(1+erf(x/sqrt(2.0)))\n",
      "\n",
      "@cython.cdivision(True)\n",
      "def black_scholes(double s, double k, double t, double v,\n",
      "                 double rf, double div, double cp):\n",
      "    \"\"\"Price an option using the Black-Scholes model.\n",
      "    \n",
      "    s : initial stock price\n",
      "    k : strike price\n",
      "    t : expiration time\n",
      "    v : volatility\n",
      "    rf : risk-free rate\n",
      "    div : dividend\n",
      "    cp : +1/-1 for call/put\n",
      "    \"\"\"\n",
      "    cdef double d1, d2, optprice\n",
      "    with nogil:\n",
      "        d1 = (log(s/k)+(rf-div+0.5*pow(v,2))*t)/(v*sqrt(t))\n",
      "        d2 = d1 - v*sqrt(t)\n",
      "        optprice = cp*s*exp(-div*t)*std_norm_cdf(cp*d1) - \\\n",
      "            cp*k*exp(-rf*t)*std_norm_cdf(cp*d2)\n",
      "    return optprice"
     ],
     "language": "python",
     "metadata": {},
     "outputs": [],
     "prompt_number": 19
    },
    {
     "cell_type": "code",
     "collapsed": false,
     "input": [
      "%%capture cap\n",
      "%timeit black_scholes(S0, K, T, vol, r, q, optype)"
     ],
     "language": "python",
     "metadata": {},
     "outputs": [],
     "prompt_number": 20
    },
    {
     "cell_type": "code",
     "collapsed": false,
     "input": [
      "BS_bench['cython'] = parse_cap(cap)\n",
      "print cap.stdout"
     ],
     "language": "python",
     "metadata": {},
     "outputs": [
      {
       "output_type": "stream",
       "stream": "stdout",
       "text": [
        "1000000 loops, best of 3: 604 ns per loop\n",
        "\n"
       ]
      }
     ],
     "prompt_number": 21
    },
    {
     "cell_type": "heading",
     "level": 1,
     "metadata": {},
     "source": [
      "MATLAB"
     ]
    },
    {
     "cell_type": "markdown",
     "metadata": {},
     "source": [
      "We now analyse the corresponding **MATLAB** code which we'll use for comparison"
     ]
    },
    {
     "cell_type": "code",
     "collapsed": false,
     "input": [
      "!cat std_norm_cdf.m"
     ],
     "language": "python",
     "metadata": {},
     "outputs": [
      {
       "output_type": "stream",
       "stream": "stdout",
       "text": [
        "function z = std_norm_cdf(x)\r\n",
        "z = 0.5*(1+erf(x/sqrt(2.0)));\r\n"
       ]
      }
     ],
     "prompt_number": 22
    },
    {
     "cell_type": "code",
     "collapsed": false,
     "input": [
      "!cat black_scholes.m"
     ],
     "language": "python",
     "metadata": {},
     "outputs": [
      {
       "output_type": "stream",
       "stream": "stdout",
       "text": [
        "function z = black_scholes(s, k, t, v, rf, div, cp)\r\n",
        "    \r\n",
        "d1 = (log(s/k)+(rf-div+0.5*v*v)*t)/(v*sqrt(t));\r\n",
        "d2 = d1 - v*sqrt(t);\r\n",
        "optprice = cp*s*exp(-div*t)*std_norm_cdf(cp*d1)-cp*k*exp(-rf*t)*std_norm_cdf(cp*d2);\r\n",
        "z = optprice;"
       ]
      }
     ],
     "prompt_number": 23
    },
    {
     "cell_type": "code",
     "collapsed": false,
     "input": [
      "%matplotlib inline"
     ],
     "language": "python",
     "metadata": {},
     "outputs": [],
     "prompt_number": 28
    },
    {
     "cell_type": "code",
     "collapsed": false,
     "input": [
      "BS_bench['matlab'] = [u'55',u'us']\n",
      "labels= BS_bench.keys()\n",
      "timings = [np.timedelta64(int(float(value[0])),str(value[1]))/np.timedelta64(1, 's') for value in BS_bench.values()]\n",
      "x = arange(len(labels))\n",
      "ax = plt.axes(xticks=x, yscale='log')\n",
      "ax.bar(x - 0.3, timings, width=0.6, alpha=0.4, bottom=1E-6)\n",
      "ax.grid()\n",
      "ax.set_xlim(-0.5, len(labels) - 0.5)\n",
      "ax.set_ylim(min(timings), 1.1*max(timings))\n",
      "ax.xaxis.set_major_formatter(plt.FuncFormatter(lambda i, loc: labels[int(i)]))\n",
      "ax.set_ylabel('time ($s$)')\n",
      "ax.set_title(\"Black-Scholes Timings\")"
     ],
     "language": "python",
     "metadata": {},
     "outputs": [
      {
       "metadata": {},
       "output_type": "pyout",
       "prompt_number": 29,
       "text": [
        "<matplotlib.text.Text at 0xa3d2dec>"
       ]
      },
      {
       "metadata": {},
       "output_type": "display_data",
       "png": "[encoded data removed]",
       "text": [
        "<matplotlib.figure.Figure at 0xa32ceec>"
       ]
      }
     ],
     "prompt_number": 29
    },
    {
     "cell_type": "markdown",
     "metadata": {},
     "source": [
      "*This post was written entirely as an IPython notebook.* \n",
      "*The full notebook can be downloaded* \n",
      "[*here*](https://raw.github.com/PoeticCapybara/Python-Introduction-Zittau/master/Lecture-8-Benchmarks.ipynb), \n",
      "*or viewed statically on* \n",
      "[*nbviewer*](http://nbviewer.ipython.org/urls/raw.github.com/PoeticCapybara/Python-Introduction-Zittau/master/Lecture-8-Benchmarks.ipynb)"
     ]
    }
   ],
   "metadata": {}
  }
 ]
}